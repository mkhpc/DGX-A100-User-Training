{
 "cells": [
  {
   "attachments": {},
   "cell_type": "markdown",
   "metadata": {},
   "source": [
    "# Fashion-MNIST Example with the NVIDIA TensorFlow Container from NGC\n",
    " ----\n",
    "\n",
    "This notebook walks you through the basics of using containers from the NGC Catalog. We chose the GPU optimized TensorFlow container as an example, but the basics of working with docker containers apply to all NGC containers.\n",
    "\n",
    "We will show you how to:\n",
    "\n",
    "* Install the Docker Engine on your system\n",
    "* Pull the TensorFlow container from the NGC Catalog using Docker\n",
    "* Run the TensorFlow container using Docker\n",
    "* Execute a simple image classification task using TensorFlow and Jupyter Notebook\n",
    "\n",
    "Let's get started!\n",
    "\n",
    "---\n",
    "\n",
    "### 1. Install the Docker Engine\n",
    "Go to https://docs.docker.com/engine/install/ to install the Docker Engine on your system.\n",
    "\n",
    "\n",
    "### 2. Download the TensorFlow container from the NGC Catalog \n",
    "\n",
    "Once the Docker Engine is installed on your machine, visit https://ngc.nvidia.com/catalog/containers and search for the TensorFlow container. Click on the TensorFlow card and copy the pull command.\n",
    "\n",
    "<img src=\"https://raw.githubusercontent.com/kbojo/images/master/NGC.png\">\n",
    "\n",
    "Open the command line of your machine and past the pull command into your command line. Execute the command to download the container. \n",
    "\n",
    "```$ docker pull nvcr.io/nvidia/tensorflow:20.08-tf1-py3```\n",
    "    \n",
    "The container starts downloading to your computer. A container image consists of many layers; all of them need to be pulled. \n",
    "\n",
    "### 3. Run the TensorFlow container image\n",
    "\n",
    "Once the container download is completed, run the following code in your command line to run and start the container:\n",
    "\n",
    "```$ docker run -it --gpus all  -p 8888:8888 -v $PWD:/projects --network=host nvcr.io/nvidia/tensorflow:20.08-tf1-py3```\n",
    "\n",
    "<img src=\"https://raw.githubusercontent.com/kbojo/images/master/commandline1.png\">\n",
    "\n",
    "### 4. Install Jupyter lab and open a notebook\n",
    "\n",
    "Within the container, run the following commands:\n",
    "\n",
    "```pip install jupyterlab```\n",
    "\n",
    "```jupyter lab --ip=0.0.0.0 --port=8888 --allow-root```\n",
    "\n",
    "Open up your favorite browser and enter: http://localhost:8888/?token=*yourtoken*.\n",
    "\n",
    "<img src=\"https://raw.githubusercontent.com/kbojo/images/master/commandline2.png\">\n",
    "\n",
    "You should see the Jupyter Lab application. Click on the plus icon to launch a new Python 3 notebook.\n",
    "\n",
    "Follow along with the image classification with the TensorFlow example provided bellow."
   ]
  },
  {
   "cell_type": "markdown",
   "metadata": {},
   "source": [
    "### 5. Fashion-MNIST Image Classification with TensorFlow\n",
    "Follow the code to train a simple neural network that classifies images of clothing. "
   ]
  },
  {
   "cell_type": "code",
   "execution_count": 57,
   "metadata": {},
   "outputs": [],
   "source": [
    "# Import Tensorflow and check version\n",
    "import tensorflow as tf\n",
    "# Import TensorFlow Keras\n",
    "from tensorflow import keras\n",
    "#Import numpy\n",
    "import numpy as np\n",
    "#Import matplotlib\n",
    "import matplotlib.pyplot as plt"
   ]
  },
  {
   "cell_type": "markdown",
   "metadata": {},
   "source": [
    "We are going to work with the Fashion-MNIST data set. The data set contains images of Zalando's article images. The images are divided into 10 classes, from 0 to 9, where each class represents a category of clothing:\n",
    "\n",
    "\n",
    "| Class \t| Name        \t|\n",
    "|-------\t|-------------\t|\n",
    "| 0     \t| T-shirt/top \t|\n",
    "| 1     \t| Trouser     \t|\n",
    "| 2     \t| Pullover    \t|\n",
    "| 3     \t| Dress       \t|\n",
    "| 4     \t| Coat        \t|\n",
    "| 5     \t| Sandal      \t|\n",
    "| 6     \t| Shirt       \t|\n",
    "| 7     \t| Sneaker     \t|\n",
    "| 8     \t| Bag         \t|\n",
    "| 9     \t| Ankle boot  \t|\n",
    "\n",
    "\n",
    "The Fashion-MNIST data set is part of the TensorFlow data set module."
   ]
  },
  {
   "cell_type": "code",
   "execution_count": 58,
   "metadata": {},
   "outputs": [],
   "source": [
    "# Import the dataset.\n",
    "\n",
    "fashion_mnist = keras.datasets.fashion_mnist"
   ]
  },
  {
   "cell_type": "code",
   "execution_count": 59,
   "metadata": {},
   "outputs": [],
   "source": [
    "# Load data set as four numpy arrays: \n",
    "\n",
    "(train_images, train_labels), (test_images, test_labels) = fashion_mnist.load_data()\n",
    "\n",
    "# For training the model, we will use train_images and train_labels arrays.\n",
    "# To test the performance of the trained model, we are going to use the test_images and test_labels arrays."
   ]
  },
  {
   "cell_type": "markdown",
   "metadata": {},
   "source": [
    "Let's explore the data set:"
   ]
  },
  {
   "cell_type": "code",
   "execution_count": 60,
   "metadata": {},
   "outputs": [
    {
     "name": "stdout",
     "output_type": "stream",
     "text": [
      "There are 60000 images in the training set and 10000 images in the testing set.\n"
     ]
    }
   ],
   "source": [
    "print(f'There are {len(train_images)} images in the training set and {len(test_images)} images in the testing set.')"
   ]
  },
  {
   "cell_type": "code",
   "execution_count": 61,
   "metadata": {},
   "outputs": [
    {
     "name": "stdout",
     "output_type": "stream",
     "text": [
      "There are 60000 labels in the training set and 10000 labels in the test set.\n"
     ]
    }
   ],
   "source": [
    "print(f'There are {len(train_labels)} labels in the training set and {len(test_labels)} labels in the test set.')"
   ]
  },
  {
   "cell_type": "code",
   "execution_count": 62,
   "metadata": {},
   "outputs": [
    {
     "name": "stdout",
     "output_type": "stream",
     "text": [
      "The images are 28 x 28 NumPy arrays.\n"
     ]
    }
   ],
   "source": [
    "print(f'The images are {train_images[0][0].size} x {train_images[0][1].size} NumPy arrays.')"
   ]
  },
  {
   "cell_type": "code",
   "execution_count": 63,
   "metadata": {},
   "outputs": [
    {
     "data": {
      "text/plain": [
       "array([9, 0, 0, 3, 0, 2, 7, 2, 5, 5, 0, 9, 5, 5, 7, 9, 1, 0, 6, 4],\n",
       "      dtype=uint8)"
      ]
     },
     "execution_count": 63,
     "metadata": {},
     "output_type": "execute_result"
    }
   ],
   "source": [
    "# The images are labeled with integers ranging from 0 to 9.\n",
    "train_labels[0:20]"
   ]
  },
  {
   "cell_type": "code",
   "execution_count": 64,
   "metadata": {},
   "outputs": [],
   "source": [
    "label_cloth_dict = {0:'T-shirt/top', 1:'Trouser', 2:'Pullover', \n",
    "                     3:'Dress', 4:'Coat', 5:'Sandal', 6:'Shirt', \n",
    "                     7:'Sneaker', 8:'Bag', 9:'Ankle boot' }"
   ]
  },
  {
   "cell_type": "code",
   "execution_count": 65,
   "metadata": {},
   "outputs": [],
   "source": [
    "def label_name(x):\n",
    "    return label_cloth_dict[x]"
   ]
  },
  {
   "cell_type": "code",
   "execution_count": 66,
   "metadata": {},
   "outputs": [
    {
     "data": {
      "image/png": "[encoded data removed]",
      "text/plain": [
       "<Figure size 432x288 with 2 Axes>"
      ]
     },
     "metadata": {
      "needs_background": "light"
     },
     "output_type": "display_data"
    }
   ],
   "source": [
    "# Let's have a look at one of the images. The following code visualizes the images using the matplotlib library.\n",
    "\n",
    "plt.figure()\n",
    "plt.imshow(train_images[0])\n",
    "plt.colorbar()\n",
    "plt.show()\n",
    "\n",
    "\n"
   ]
  },
  {
   "cell_type": "code",
   "execution_count": 67,
   "metadata": {},
   "outputs": [
    {
     "data": {
      "image/png": "[encoded data removed]",
      "text/plain": [
       "<Figure size 720x360 with 10 Axes>"
      ]
     },
     "metadata": {},
     "output_type": "display_data"
    }
   ],
   "source": [
    "# Let's look again at the first ten images, but this time with the class names.\n",
    "plt.figure(figsize=(10,5))\n",
    "for i in range(10):\n",
    "    plt.subplot(2,5,i+1)\n",
    "    plt.xticks([])\n",
    "    plt.yticks([])\n",
    "    plt.grid(False)\n",
    "    plt.imshow(train_images[i], cmap='Blues')\n",
    "    plt.xlabel(label_name(train_labels[i]))\n",
    "plt.show()"
   ]
  },
  {
   "cell_type": "code",
   "execution_count": 68,
   "metadata": {},
   "outputs": [],
   "source": [
    "# The pixel values range from 0 to 255. \n",
    "# Let's divide the image arrays by 255 to scale them to the range 0 to 1.\n",
    "\n",
    "train_images = train_images / 255.0\n",
    "\n",
    "test_images = test_images / 255.0"
   ]
  },
  {
   "cell_type": "code",
   "execution_count": 69,
   "metadata": {},
   "outputs": [],
   "source": [
    "# Let's build the model:\n",
    "\n",
    "simple_model = keras.Sequential([\n",
    "    # Flatten two dimansional images into one dimansion 28*28pixles=784pixels.\n",
    "    keras.layers.Flatten(input_shape=(28, 28)),\n",
    "    # First dense/ fully connected layer: 128 nodes.\n",
    "    keras.layers.Dense(128, activation='relu'),\n",
    "    # Second dense/ fully connected layer: 10 nodes --> Result is a score for each images class.\n",
    "    keras.layers.Dense(10)])"
   ]
  },
  {
   "cell_type": "code",
   "execution_count": 70,
   "metadata": {},
   "outputs": [],
   "source": [
    "# Compile the model:\n",
    "# Define loss function, optimizer, and metrics.\n",
    "\n",
    "simple_model.compile(optimizer='adam',\n",
    "              loss=tf.keras.losses.SparseCategoricalCrossentropy(from_logits=True),\n",
    "              metrics=['accuracy'])"
   ]
  },
  {
   "cell_type": "code",
   "execution_count": 71,
   "metadata": {},
   "outputs": [
    {
     "name": "stdout",
     "output_type": "stream",
     "text": [
      "Epoch 1/15\n",
      "1875/1875 [==============================] - 1s 728us/step - loss: 0.4917 - accuracy: 0.8285\n",
      "Epoch 2/15\n",
      "1875/1875 [==============================] - 1s 672us/step - loss: 0.3757 - accuracy: 0.8652\n",
      "Epoch 3/15\n",
      "1875/1875 [==============================] - 1s 664us/step - loss: 0.3385 - accuracy: 0.8771\n",
      "Epoch 4/15\n",
      "1875/1875 [==============================] - 1s 669us/step - loss: 0.3144 - accuracy: 0.8847\n",
      "Epoch 5/15\n",
      "1875/1875 [==============================] - 1s 670us/step - loss: 0.2944 - accuracy: 0.8917\n",
      "Epoch 6/15\n",
      "1875/1875 [==============================] - 1s 662us/step - loss: 0.2805 - accuracy: 0.8964\n",
      "Epoch 7/15\n",
      "1875/1875 [==============================] - 1s 679us/step - loss: 0.2696 - accuracy: 0.8998\n",
      "Epoch 8/15\n",
      "1875/1875 [==============================] - 1s 675us/step - loss: 0.2566 - accuracy: 0.9053\n",
      "Epoch 9/15\n",
      "1875/1875 [==============================] - 1s 687us/step - loss: 0.2502 - accuracy: 0.9061\n",
      "Epoch 10/15\n",
      "1875/1875 [==============================] - 1s 664us/step - loss: 0.2406 - accuracy: 0.9107\n",
      "Epoch 11/15\n",
      "1875/1875 [==============================] - 1s 669us/step - loss: 0.2312 - accuracy: 0.9143\n",
      "Epoch 12/15\n",
      "1875/1875 [==============================] - 1s 666us/step - loss: 0.2230 - accuracy: 0.9170\n",
      "Epoch 13/15\n",
      "1875/1875 [==============================] - 1s 664us/step - loss: 0.2156 - accuracy: 0.9189\n",
      "Epoch 14/15\n",
      "1875/1875 [==============================] - 1s 671us/step - loss: 0.2106 - accuracy: 0.9206\n",
      "Epoch 15/15\n",
      "1875/1875 [==============================] - 1s 672us/step - loss: 0.2024 - accuracy: 0.9239\n"
     ]
    },
    {
     "data": {
      "text/plain": [
       "<tensorflow.python.keras.callbacks.History at 0x7fa10c1241d0>"
      ]
     },
     "execution_count": 71,
     "metadata": {},
     "output_type": "execute_result"
    }
   ],
   "source": [
    "# Train the model:\n",
    "# Let's train 15 epochs. After every epoch, training time, loss, and accuracy will be displayed.\n",
    "\n",
    "simple_model.fit(train_images, train_labels, epochs=15)"
   ]
  },
  {
   "cell_type": "markdown",
   "metadata": {},
   "source": [
    "With every epoch, the loss function decreases and the accuracy increases. After 15 epochs, the accuracy is around 92%."
   ]
  },
  {
   "cell_type": "code",
   "execution_count": 72,
   "metadata": {},
   "outputs": [
    {
     "name": "stdout",
     "output_type": "stream",
     "text": [
      "313/313 [==============================] - 0s 542us/step - loss: 0.3482 - accuracy: 0.8836\n"
     ]
    }
   ],
   "source": [
    "# Let's see how the model performs on the test data:\n",
    "\n",
    "test_loss, test_acc = simple_model.evaluate(test_images, test_labels)"
   ]
  },
  {
   "cell_type": "markdown",
   "metadata": {},
   "source": [
    "The accuracy of the predictions is around 88%. "
   ]
  },
  {
   "cell_type": "markdown",
   "metadata": {},
   "source": [
    "---\n",
    "\n",
    "Here you go! You trained your first model and used it to make predictions on test data.\n",
    "For more advanced TensorFlow examples and in-depth explanations of the different steps, visit https://www.tensorflow.org/tutorials.\n",
    "\n",
    "To explore all NGC Containers, visit https://ngc.nvidia.com/. The NGC Catalog offers not only GPU optimized containers but also Helm Charts, pre-trained models and model scripts. "
   ]
  }
 ],
 "metadata": {
  "kernelspec": {
   "display_name": "Python 3",
   "language": "python",
   "name": "python3"
  },
  "language_info": {
   "codemirror_mode": {
    "name": "ipython",
    "version": 3
   },
   "file_extension": ".py",
   "mimetype": "text/x-python",
   "name": "python",
   "nbconvert_exporter": "python",
   "pygments_lexer": "ipython3",
   "version": "3.7.6"
  }
 },
 "nbformat": 4,
 "nbformat_minor": 4
}
